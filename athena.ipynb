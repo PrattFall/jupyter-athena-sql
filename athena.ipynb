{
 "cells": [
  {
   "cell_type": "markdown",
   "metadata": {},
   "source": [
    "# using jupyter-athena-sql"
   ]
  },
  {
   "cell_type": "markdown",
   "metadata": {},
   "source": [
    "In this small howto we use AWS Athena and show how to query it from jupyter notebooks.\n",
    "\n",
    "some preparation steps:\n",
    "* obviously you need access to an AWS account (including access to AWS Athena)\n",
    "* you need to create an S3 bucket for your data\n",
    "* if you are running jupyter outside of AWS you need to setup credentials for remotely accessing your account\n",
    "* upload the CSV file to S3 (you can use other formats...)\n",
    "\n",
    "the CSV file `ice_cream.csv` we used looks like this:\n",
    "``` text\n",
    "Chocolate,28\n",
    "Vanilla,26\n",
    "Cookie Dough,22\n",
    "Swiss Almond,19\n",
    "Mint Chocolate,15\n",
    "Strawberry,12\n",
    "```\n",
    "\n",
    "Have fun."
   ]
  },
  {
   "cell_type": "markdown",
   "metadata": {},
   "source": [
    "## load the `athena` extension"
   ]
  },
  {
   "cell_type": "code",
   "execution_count": 1,
   "metadata": {},
   "outputs": [],
   "source": [
    "%load_ext athena"
   ]
  },
  {
   "cell_type": "markdown",
   "metadata": {},
   "source": [
    "creating a database and table so we can query the data:"
   ]
  },
  {
   "cell_type": "code",
   "execution_count": 2,
   "metadata": {},
   "outputs": [],
   "source": [
    "%%athena\n",
    "CREATE DATABASE IF NOT EXISTS ice_cream"
   ]
  },
  {
   "cell_type": "code",
   "execution_count": 3,
   "metadata": {},
   "outputs": [],
   "source": [
    "%%athena \n",
    "CREATE EXTERNAL TABLE IF NOT EXISTS ice_cream.ratings (\n",
    "flavour varchar(100),\n",
    "rating int\n",
    ")\n",
    "ROW FORMAT DELIMITED\n",
    "  FIELDS TERMINATED BY ','\n",
    "  ESCAPED BY '\\\\'\n",
    "  LINES TERMINATED BY '\\n'\n",
    "  LOCATION 's3://athena-sql-sample/jupyter/';"
   ]
  },
  {
   "cell_type": "markdown",
   "metadata": {},
   "source": [
    "## now we can query our database table"
   ]
  },
  {
   "cell_type": "code",
   "execution_count": 3,
   "metadata": {},
   "outputs": [
    {
     "data": {
      "text/html": [
       "<div>\n",
       "<style>\n",
       "    .dataframe thead tr:only-child th {\n",
       "        text-align: right;\n",
       "    }\n",
       "\n",
       "    .dataframe thead th {\n",
       "        text-align: left;\n",
       "    }\n",
       "\n",
       "    .dataframe tbody tr th {\n",
       "        vertical-align: top;\n",
       "    }\n",
       "</style>\n",
       "<table border=\"1\" class=\"dataframe\">\n",
       "  <thead>\n",
       "    <tr style=\"text-align: right;\">\n",
       "      <th></th>\n",
       "      <th>flavour</th>\n",
       "      <th>rating</th>\n",
       "    </tr>\n",
       "  </thead>\n",
       "  <tbody>\n",
       "    <tr>\n",
       "      <th>0</th>\n",
       "      <td>Chocolate</td>\n",
       "      <td>28</td>\n",
       "    </tr>\n",
       "    <tr>\n",
       "      <th>1</th>\n",
       "      <td>Vanilla</td>\n",
       "      <td>26</td>\n",
       "    </tr>\n",
       "    <tr>\n",
       "      <th>2</th>\n",
       "      <td>Cookie Dough</td>\n",
       "      <td>22</td>\n",
       "    </tr>\n",
       "    <tr>\n",
       "      <th>3</th>\n",
       "      <td>Swiss Almond</td>\n",
       "      <td>19</td>\n",
       "    </tr>\n",
       "    <tr>\n",
       "      <th>4</th>\n",
       "      <td>Mint Chocolate</td>\n",
       "      <td>15</td>\n",
       "    </tr>\n",
       "    <tr>\n",
       "      <th>5</th>\n",
       "      <td>Strawberry</td>\n",
       "      <td>12</td>\n",
       "    </tr>\n",
       "  </tbody>\n",
       "</table>\n",
       "</div>"
      ],
      "text/plain": [
       "          flavour  rating\n",
       "0       Chocolate      28\n",
       "1         Vanilla      26\n",
       "2    Cookie Dough      22\n",
       "3    Swiss Almond      19\n",
       "4  Mint Chocolate      15\n",
       "5      Strawberry      12"
      ]
     },
     "execution_count": 3,
     "metadata": {},
     "output_type": "execute_result"
    }
   ],
   "source": [
    "%athena select * from ice_cream.ratings"
   ]
  },
  {
   "cell_type": "markdown",
   "metadata": {},
   "source": [
    "running queries against athena... woot woot"
   ]
  }
 ],
 "metadata": {
  "kernelspec": {
   "display_name": "Python 3",
   "language": "python",
   "name": "python3"
  },
  "language_info": {
   "codemirror_mode": {
    "name": "ipython",
    "version": 3
   },
   "file_extension": ".py",
   "mimetype": "text/x-python",
   "name": "python",
   "nbconvert_exporter": "python",
   "pygments_lexer": "ipython3",
   "version": "3.6.0"
  }
 },
 "nbformat": 4,
 "nbformat_minor": 2
}
